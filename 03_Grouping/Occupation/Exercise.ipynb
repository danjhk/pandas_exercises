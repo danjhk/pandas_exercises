{
 "cells": [
  {
   "cell_type": "markdown",
   "metadata": {},
   "source": [
    "# Occupation"
   ]
  },
  {
   "cell_type": "markdown",
   "metadata": {},
   "source": [
    "### Introduction:\n",
    "\n",
    "Special thanks to: https://github.com/justmarkham for sharing the dataset and materials.\n",
    "\n",
    "### Step 1. Import the necessary libraries"
   ]
  },
  {
   "cell_type": "code",
   "execution_count": 1,
   "metadata": {
    "collapsed": false
   },
   "outputs": [],
   "source": [
    "import pandas as pd"
   ]
  },
  {
   "cell_type": "markdown",
   "metadata": {},
   "source": [
    "### Step 2. Import the dataset from this [address](https://raw.githubusercontent.com/justmarkham/DAT8/master/data/u.user). "
   ]
  },
  {
   "cell_type": "markdown",
   "metadata": {},
   "source": [
    "### Step 3. Assign it to a variable called users."
   ]
  },
  {
   "cell_type": "code",
   "execution_count": 3,
   "metadata": {
    "collapsed": false
   },
   "outputs": [
    {
     "name": "stdout",
     "output_type": "stream",
     "text": [
      "(943, 5)\n"
     ]
    }
   ],
   "source": [
    "users = pd.read_csv(\"https://raw.githubusercontent.com/justmarkham/DAT8/master/data/u.user\", sep=\"|\")\n",
    "users.head()\n",
    "print(users.shape)"
   ]
  },
  {
   "cell_type": "markdown",
   "metadata": {},
   "source": [
    "### Step 4. Discover what is the mean age per occupation"
   ]
  },
  {
   "cell_type": "code",
   "execution_count": 5,
   "metadata": {
    "collapsed": false
   },
   "outputs": [
    {
     "data": {
      "text/plain": [
       "occupation\n",
       "administrator    38.746835\n",
       "artist           31.392857\n",
       "doctor           43.571429\n",
       "educator         42.010526\n",
       "engineer         36.388060\n",
       "entertainment    29.222222\n",
       "executive        38.718750\n",
       "healthcare       41.562500\n",
       "homemaker        32.571429\n",
       "lawyer           36.750000\n",
       "librarian        40.000000\n",
       "marketing        37.615385\n",
       "none             26.555556\n",
       "other            34.523810\n",
       "programmer       33.121212\n",
       "retired          63.071429\n",
       "salesman         35.666667\n",
       "scientist        35.548387\n",
       "student          22.081633\n",
       "technician       33.148148\n",
       "writer           36.311111\n",
       "Name: age, dtype: float64"
      ]
     },
     "execution_count": 5,
     "metadata": {},
     "output_type": "execute_result"
    }
   ],
   "source": [
    "users.groupby(\"occupation\").age.mean()"
   ]
  },
  {
   "cell_type": "markdown",
   "metadata": {},
   "source": [
    "### Step 5. Discover the Male ratio per occupation and sort it from the most to the least"
   ]
  },
  {
   "cell_type": "code",
   "execution_count": 122,
   "metadata": {},
   "outputs": [
    {
     "data": {
      "text/plain": [
       "occupation\n",
       "doctor           1.000000\n",
       "engineer         0.970149\n",
       "technician       0.962963\n",
       "retired          0.928571\n",
       "programmer       0.909091\n",
       "executive        0.906250\n",
       "scientist        0.903226\n",
       "entertainment    0.888889\n",
       "lawyer           0.833333\n",
       "salesman         0.750000\n",
       "educator         0.726316\n",
       "student          0.693878\n",
       "other            0.657143\n",
       "marketing        0.615385\n",
       "writer           0.577778\n",
       "none             0.555556\n",
       "administrator    0.544304\n",
       "artist           0.535714\n",
       "librarian        0.431373\n",
       "healthcare       0.312500\n",
       "homemaker        0.142857\n",
       "Name: male_ratio, dtype: float64"
      ]
     },
     "execution_count": 122,
     "metadata": {},
     "output_type": "execute_result"
    }
   ],
   "source": [
    "male_female_people_per_occupation = users.pivot_table(index=\"occupation\", columns=\"gender\", aggfunc=\"size\", fill_value=0)\n",
    "male_female_people_per_occupation[\"male_ratio\"] = male_female_people_per_occupation[\"M\"] / male_female_people_per_occupation.sum(axis=1)\n",
    "male_female_people_per_occupation[\"male_ratio\"].sort_values(ascending=False)"
   ]
  },
  {
   "cell_type": "markdown",
   "metadata": {},
   "source": [
    "### Step 6. For each occupation, calculate the minimum and maximum ages"
   ]
  },
  {
   "cell_type": "code",
   "execution_count": 124,
   "metadata": {
    "collapsed": false
   },
   "outputs": [
    {
     "data": {
      "text/html": [
       "<div>\n",
       "<style scoped>\n",
       "    .dataframe tbody tr th:only-of-type {\n",
       "        vertical-align: middle;\n",
       "    }\n",
       "\n",
       "    .dataframe tbody tr th {\n",
       "        vertical-align: top;\n",
       "    }\n",
       "\n",
       "    .dataframe thead th {\n",
       "        text-align: right;\n",
       "    }\n",
       "</style>\n",
       "<table border=\"1\" class=\"dataframe\">\n",
       "  <thead>\n",
       "    <tr style=\"text-align: right;\">\n",
       "      <th></th>\n",
       "      <th>min</th>\n",
       "      <th>max</th>\n",
       "    </tr>\n",
       "    <tr>\n",
       "      <th>occupation</th>\n",
       "      <th></th>\n",
       "      <th></th>\n",
       "    </tr>\n",
       "  </thead>\n",
       "  <tbody>\n",
       "    <tr>\n",
       "      <th>administrator</th>\n",
       "      <td>21</td>\n",
       "      <td>70</td>\n",
       "    </tr>\n",
       "    <tr>\n",
       "      <th>artist</th>\n",
       "      <td>19</td>\n",
       "      <td>48</td>\n",
       "    </tr>\n",
       "    <tr>\n",
       "      <th>doctor</th>\n",
       "      <td>28</td>\n",
       "      <td>64</td>\n",
       "    </tr>\n",
       "    <tr>\n",
       "      <th>educator</th>\n",
       "      <td>23</td>\n",
       "      <td>63</td>\n",
       "    </tr>\n",
       "    <tr>\n",
       "      <th>engineer</th>\n",
       "      <td>22</td>\n",
       "      <td>70</td>\n",
       "    </tr>\n",
       "    <tr>\n",
       "      <th>entertainment</th>\n",
       "      <td>15</td>\n",
       "      <td>50</td>\n",
       "    </tr>\n",
       "    <tr>\n",
       "      <th>executive</th>\n",
       "      <td>22</td>\n",
       "      <td>69</td>\n",
       "    </tr>\n",
       "    <tr>\n",
       "      <th>healthcare</th>\n",
       "      <td>22</td>\n",
       "      <td>62</td>\n",
       "    </tr>\n",
       "    <tr>\n",
       "      <th>homemaker</th>\n",
       "      <td>20</td>\n",
       "      <td>50</td>\n",
       "    </tr>\n",
       "    <tr>\n",
       "      <th>lawyer</th>\n",
       "      <td>21</td>\n",
       "      <td>53</td>\n",
       "    </tr>\n",
       "    <tr>\n",
       "      <th>librarian</th>\n",
       "      <td>23</td>\n",
       "      <td>69</td>\n",
       "    </tr>\n",
       "    <tr>\n",
       "      <th>marketing</th>\n",
       "      <td>24</td>\n",
       "      <td>55</td>\n",
       "    </tr>\n",
       "    <tr>\n",
       "      <th>none</th>\n",
       "      <td>11</td>\n",
       "      <td>55</td>\n",
       "    </tr>\n",
       "    <tr>\n",
       "      <th>other</th>\n",
       "      <td>13</td>\n",
       "      <td>64</td>\n",
       "    </tr>\n",
       "    <tr>\n",
       "      <th>programmer</th>\n",
       "      <td>20</td>\n",
       "      <td>63</td>\n",
       "    </tr>\n",
       "    <tr>\n",
       "      <th>retired</th>\n",
       "      <td>51</td>\n",
       "      <td>73</td>\n",
       "    </tr>\n",
       "    <tr>\n",
       "      <th>salesman</th>\n",
       "      <td>18</td>\n",
       "      <td>66</td>\n",
       "    </tr>\n",
       "    <tr>\n",
       "      <th>scientist</th>\n",
       "      <td>23</td>\n",
       "      <td>55</td>\n",
       "    </tr>\n",
       "    <tr>\n",
       "      <th>student</th>\n",
       "      <td>7</td>\n",
       "      <td>42</td>\n",
       "    </tr>\n",
       "    <tr>\n",
       "      <th>technician</th>\n",
       "      <td>21</td>\n",
       "      <td>55</td>\n",
       "    </tr>\n",
       "    <tr>\n",
       "      <th>writer</th>\n",
       "      <td>18</td>\n",
       "      <td>60</td>\n",
       "    </tr>\n",
       "  </tbody>\n",
       "</table>\n",
       "</div>"
      ],
      "text/plain": [
       "               min  max\n",
       "occupation             \n",
       "administrator   21   70\n",
       "artist          19   48\n",
       "doctor          28   64\n",
       "educator        23   63\n",
       "engineer        22   70\n",
       "entertainment   15   50\n",
       "executive       22   69\n",
       "healthcare      22   62\n",
       "homemaker       20   50\n",
       "lawyer          21   53\n",
       "librarian       23   69\n",
       "marketing       24   55\n",
       "none            11   55\n",
       "other           13   64\n",
       "programmer      20   63\n",
       "retired         51   73\n",
       "salesman        18   66\n",
       "scientist       23   55\n",
       "student          7   42\n",
       "technician      21   55\n",
       "writer          18   60"
      ]
     },
     "execution_count": 124,
     "metadata": {},
     "output_type": "execute_result"
    }
   ],
   "source": [
    "users.groupby(\"occupation\").age.agg([\"min\", \"max\"])"
   ]
  },
  {
   "cell_type": "markdown",
   "metadata": {},
   "source": [
    "### Step 7. For each combination of occupation and gender, calculate the mean age"
   ]
  },
  {
   "cell_type": "code",
   "execution_count": 125,
   "metadata": {
    "collapsed": false
   },
   "outputs": [
    {
     "data": {
      "text/plain": [
       "occupation     gender\n",
       "administrator  F         40.638889\n",
       "               M         37.162791\n",
       "artist         F         30.307692\n",
       "               M         32.333333\n",
       "doctor         M         43.571429\n",
       "educator       F         39.115385\n",
       "               M         43.101449\n",
       "engineer       F         29.500000\n",
       "               M         36.600000\n",
       "entertainment  F         31.000000\n",
       "               M         29.000000\n",
       "executive      F         44.000000\n",
       "               M         38.172414\n",
       "healthcare     F         39.818182\n",
       "               M         45.400000\n",
       "homemaker      F         34.166667\n",
       "               M         23.000000\n",
       "lawyer         F         39.500000\n",
       "               M         36.200000\n",
       "librarian      F         40.000000\n",
       "               M         40.000000\n",
       "marketing      F         37.200000\n",
       "               M         37.875000\n",
       "none           F         36.500000\n",
       "               M         18.600000\n",
       "other          F         35.472222\n",
       "               M         34.028986\n",
       "programmer     F         32.166667\n",
       "               M         33.216667\n",
       "retired        F         70.000000\n",
       "               M         62.538462\n",
       "salesman       F         27.000000\n",
       "               M         38.555556\n",
       "scientist      F         28.333333\n",
       "               M         36.321429\n",
       "student        F         20.750000\n",
       "               M         22.669118\n",
       "technician     F         38.000000\n",
       "               M         32.961538\n",
       "writer         F         37.631579\n",
       "               M         35.346154\n",
       "Name: age, dtype: float64"
      ]
     },
     "execution_count": 125,
     "metadata": {},
     "output_type": "execute_result"
    }
   ],
   "source": [
    "users.groupby([\"occupation\", \"gender\"]).age.mean()"
   ]
  },
  {
   "cell_type": "markdown",
   "metadata": {},
   "source": [
    "### Step 8.  For each occupation present the percentage of women and men"
   ]
  },
  {
   "cell_type": "code",
   "execution_count": 144,
   "metadata": {
    "collapsed": false
   },
   "outputs": [
    {
     "data": {
      "text/html": [
       "<style  type=\"text/css\" >\n",
       "</style><table id=\"T_6d3cd_\" ><thead>    <tr>        <th class=\"index_name level0\" >gender</th>        <th class=\"col_heading level0 col0\" >male_ratio</th>        <th class=\"col_heading level0 col1\" >female_ratio</th>    </tr>    <tr>        <th class=\"index_name level0\" >occupation</th>        <th class=\"blank\" ></th>        <th class=\"blank\" ></th>    </tr></thead><tbody>\n",
       "                <tr>\n",
       "                        <th id=\"T_6d3cd_level0_row0\" class=\"row_heading level0 row0\" >administrator</th>\n",
       "                        <td id=\"T_6d3cd_row0_col0\" class=\"data row0 col0\" >54.4%</td>\n",
       "                        <td id=\"T_6d3cd_row0_col1\" class=\"data row0 col1\" >45.6%</td>\n",
       "            </tr>\n",
       "            <tr>\n",
       "                        <th id=\"T_6d3cd_level0_row1\" class=\"row_heading level0 row1\" >artist</th>\n",
       "                        <td id=\"T_6d3cd_row1_col0\" class=\"data row1 col0\" >53.6%</td>\n",
       "                        <td id=\"T_6d3cd_row1_col1\" class=\"data row1 col1\" >46.4%</td>\n",
       "            </tr>\n",
       "            <tr>\n",
       "                        <th id=\"T_6d3cd_level0_row2\" class=\"row_heading level0 row2\" >doctor</th>\n",
       "                        <td id=\"T_6d3cd_row2_col0\" class=\"data row2 col0\" >100.0%</td>\n",
       "                        <td id=\"T_6d3cd_row2_col1\" class=\"data row2 col1\" >0.0%</td>\n",
       "            </tr>\n",
       "            <tr>\n",
       "                        <th id=\"T_6d3cd_level0_row3\" class=\"row_heading level0 row3\" >educator</th>\n",
       "                        <td id=\"T_6d3cd_row3_col0\" class=\"data row3 col0\" >72.6%</td>\n",
       "                        <td id=\"T_6d3cd_row3_col1\" class=\"data row3 col1\" >27.4%</td>\n",
       "            </tr>\n",
       "            <tr>\n",
       "                        <th id=\"T_6d3cd_level0_row4\" class=\"row_heading level0 row4\" >engineer</th>\n",
       "                        <td id=\"T_6d3cd_row4_col0\" class=\"data row4 col0\" >97.0%</td>\n",
       "                        <td id=\"T_6d3cd_row4_col1\" class=\"data row4 col1\" >3.0%</td>\n",
       "            </tr>\n",
       "            <tr>\n",
       "                        <th id=\"T_6d3cd_level0_row5\" class=\"row_heading level0 row5\" >entertainment</th>\n",
       "                        <td id=\"T_6d3cd_row5_col0\" class=\"data row5 col0\" >88.9%</td>\n",
       "                        <td id=\"T_6d3cd_row5_col1\" class=\"data row5 col1\" >11.1%</td>\n",
       "            </tr>\n",
       "            <tr>\n",
       "                        <th id=\"T_6d3cd_level0_row6\" class=\"row_heading level0 row6\" >executive</th>\n",
       "                        <td id=\"T_6d3cd_row6_col0\" class=\"data row6 col0\" >90.6%</td>\n",
       "                        <td id=\"T_6d3cd_row6_col1\" class=\"data row6 col1\" >9.4%</td>\n",
       "            </tr>\n",
       "            <tr>\n",
       "                        <th id=\"T_6d3cd_level0_row7\" class=\"row_heading level0 row7\" >healthcare</th>\n",
       "                        <td id=\"T_6d3cd_row7_col0\" class=\"data row7 col0\" >31.2%</td>\n",
       "                        <td id=\"T_6d3cd_row7_col1\" class=\"data row7 col1\" >68.8%</td>\n",
       "            </tr>\n",
       "            <tr>\n",
       "                        <th id=\"T_6d3cd_level0_row8\" class=\"row_heading level0 row8\" >homemaker</th>\n",
       "                        <td id=\"T_6d3cd_row8_col0\" class=\"data row8 col0\" >14.3%</td>\n",
       "                        <td id=\"T_6d3cd_row8_col1\" class=\"data row8 col1\" >85.7%</td>\n",
       "            </tr>\n",
       "            <tr>\n",
       "                        <th id=\"T_6d3cd_level0_row9\" class=\"row_heading level0 row9\" >lawyer</th>\n",
       "                        <td id=\"T_6d3cd_row9_col0\" class=\"data row9 col0\" >83.3%</td>\n",
       "                        <td id=\"T_6d3cd_row9_col1\" class=\"data row9 col1\" >16.7%</td>\n",
       "            </tr>\n",
       "            <tr>\n",
       "                        <th id=\"T_6d3cd_level0_row10\" class=\"row_heading level0 row10\" >librarian</th>\n",
       "                        <td id=\"T_6d3cd_row10_col0\" class=\"data row10 col0\" >43.1%</td>\n",
       "                        <td id=\"T_6d3cd_row10_col1\" class=\"data row10 col1\" >56.9%</td>\n",
       "            </tr>\n",
       "            <tr>\n",
       "                        <th id=\"T_6d3cd_level0_row11\" class=\"row_heading level0 row11\" >marketing</th>\n",
       "                        <td id=\"T_6d3cd_row11_col0\" class=\"data row11 col0\" >61.5%</td>\n",
       "                        <td id=\"T_6d3cd_row11_col1\" class=\"data row11 col1\" >38.5%</td>\n",
       "            </tr>\n",
       "            <tr>\n",
       "                        <th id=\"T_6d3cd_level0_row12\" class=\"row_heading level0 row12\" >none</th>\n",
       "                        <td id=\"T_6d3cd_row12_col0\" class=\"data row12 col0\" >55.6%</td>\n",
       "                        <td id=\"T_6d3cd_row12_col1\" class=\"data row12 col1\" >44.4%</td>\n",
       "            </tr>\n",
       "            <tr>\n",
       "                        <th id=\"T_6d3cd_level0_row13\" class=\"row_heading level0 row13\" >other</th>\n",
       "                        <td id=\"T_6d3cd_row13_col0\" class=\"data row13 col0\" >65.7%</td>\n",
       "                        <td id=\"T_6d3cd_row13_col1\" class=\"data row13 col1\" >34.3%</td>\n",
       "            </tr>\n",
       "            <tr>\n",
       "                        <th id=\"T_6d3cd_level0_row14\" class=\"row_heading level0 row14\" >programmer</th>\n",
       "                        <td id=\"T_6d3cd_row14_col0\" class=\"data row14 col0\" >90.9%</td>\n",
       "                        <td id=\"T_6d3cd_row14_col1\" class=\"data row14 col1\" >9.1%</td>\n",
       "            </tr>\n",
       "            <tr>\n",
       "                        <th id=\"T_6d3cd_level0_row15\" class=\"row_heading level0 row15\" >retired</th>\n",
       "                        <td id=\"T_6d3cd_row15_col0\" class=\"data row15 col0\" >92.9%</td>\n",
       "                        <td id=\"T_6d3cd_row15_col1\" class=\"data row15 col1\" >7.1%</td>\n",
       "            </tr>\n",
       "            <tr>\n",
       "                        <th id=\"T_6d3cd_level0_row16\" class=\"row_heading level0 row16\" >salesman</th>\n",
       "                        <td id=\"T_6d3cd_row16_col0\" class=\"data row16 col0\" >75.0%</td>\n",
       "                        <td id=\"T_6d3cd_row16_col1\" class=\"data row16 col1\" >25.0%</td>\n",
       "            </tr>\n",
       "            <tr>\n",
       "                        <th id=\"T_6d3cd_level0_row17\" class=\"row_heading level0 row17\" >scientist</th>\n",
       "                        <td id=\"T_6d3cd_row17_col0\" class=\"data row17 col0\" >90.3%</td>\n",
       "                        <td id=\"T_6d3cd_row17_col1\" class=\"data row17 col1\" >9.7%</td>\n",
       "            </tr>\n",
       "            <tr>\n",
       "                        <th id=\"T_6d3cd_level0_row18\" class=\"row_heading level0 row18\" >student</th>\n",
       "                        <td id=\"T_6d3cd_row18_col0\" class=\"data row18 col0\" >69.4%</td>\n",
       "                        <td id=\"T_6d3cd_row18_col1\" class=\"data row18 col1\" >30.6%</td>\n",
       "            </tr>\n",
       "            <tr>\n",
       "                        <th id=\"T_6d3cd_level0_row19\" class=\"row_heading level0 row19\" >technician</th>\n",
       "                        <td id=\"T_6d3cd_row19_col0\" class=\"data row19 col0\" >96.3%</td>\n",
       "                        <td id=\"T_6d3cd_row19_col1\" class=\"data row19 col1\" >3.7%</td>\n",
       "            </tr>\n",
       "            <tr>\n",
       "                        <th id=\"T_6d3cd_level0_row20\" class=\"row_heading level0 row20\" >writer</th>\n",
       "                        <td id=\"T_6d3cd_row20_col0\" class=\"data row20 col0\" >57.8%</td>\n",
       "                        <td id=\"T_6d3cd_row20_col1\" class=\"data row20 col1\" >42.2%</td>\n",
       "            </tr>\n",
       "    </tbody></table>"
      ],
      "text/plain": [
       "<pandas.io.formats.style.Styler at 0x7f51ac65a610>"
      ]
     },
     "execution_count": 144,
     "metadata": {},
     "output_type": "execute_result"
    }
   ],
   "source": [
    "male_female_people_per_occupation = users.pivot_table(index=\"occupation\", columns=\"gender\", aggfunc=\"size\", fill_value=0)\n",
    "male_female_people_per_occupation[\"male_ratio\"] = male_female_people_per_occupation[\"M\"] / male_female_people_per_occupation.sum(axis=1)\n",
    "male_female_people_per_occupation[\"female_ratio\"] = male_female_people_per_occupation[\"F\"] / male_female_people_per_occupation[[\"F\", \"M\"]].sum(axis=1)\n",
    "male_female_people_per_occupation[[\"male_ratio\", \"female_ratio\"]].style.format({\"male_ratio\": '{:.1%}'.format, \"female_ratio\": '{:.1%}'.format})\n"
   ]
  }
 ],
 "metadata": {
  "interpreter": {
   "hash": "e25349beb06c9e9cb0192ba1197620989092a28ac46496916b68a881fcdce206"
  },
  "kernelspec": {
   "display_name": "Python 3.8.5 64-bit ('kaggle_env': venv)",
   "name": "python3"
  },
  "language_info": {
   "codemirror_mode": {
    "name": "ipython",
    "version": 3
   },
   "file_extension": ".py",
   "mimetype": "text/x-python",
   "name": "python",
   "nbconvert_exporter": "python",
   "pygments_lexer": "ipython3",
   "version": "3.8.5"
  }
 },
 "nbformat": 4,
 "nbformat_minor": 0
}